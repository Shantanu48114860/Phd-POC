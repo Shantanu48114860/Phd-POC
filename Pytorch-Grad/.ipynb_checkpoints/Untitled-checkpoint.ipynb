{
 "cells": [
  {
   "cell_type": "code",
   "execution_count": 5,
   "id": "d345e33c",
   "metadata": {},
   "outputs": [],
   "source": [
    "import torch.nn as nn\n",
    "\n",
    "from graphviz import Digraph\n",
    "import re\n",
    "import torch\n",
    "import torch.nn.functional as F\n",
    "from torch.autograd import Variable\n",
    "from torch.autograd import Variable\n",
    "import torchvision.models as models"
   ]
  },
  {
   "cell_type": "code",
   "execution_count": 9,
   "id": "3dde35d5",
   "metadata": {},
   "outputs": [],
   "source": [
    "def make_dot(var):\n",
    "    node_attr = dict(style='filled',\n",
    "                     shape='box',\n",
    "                     align='left',\n",
    "                     fontsize='12',\n",
    "                     ranksep='0.1',\n",
    "                     height='0.2')\n",
    "    dot = Digraph(node_attr=node_attr, graph_attr=dict(size=\"12,12\"))\n",
    "    seen = set()\n",
    "\n",
    "def add_nodes(var):\n",
    "    if var not in seen:\n",
    "        if isinstance(var, Variable):\n",
    "            value = '('+(', ').join(['%d'% v for v in var.size()])+')'\n",
    "            dot.node(str(id(var)), str(value), fillcolor='lightblue')\n",
    "        else:\n",
    "            dot.node(str(id(var)), str(type(var).__name__))\n",
    "        seen.add(var)\n",
    "        if hasattr(var, 'previous_functions'):\n",
    "            for u in var.previous_functions:\n",
    "                dot.edge(str(id(u[0])), str(id(var)))\n",
    "                add_nodes(u[0])\n",
    "    add_nodes(var.creator)\n",
    "    return dot\n"
   ]
  },
  {
   "cell_type": "code",
   "execution_count": 10,
   "id": "02f60bff",
   "metadata": {},
   "outputs": [
    {
     "name": "stdout",
     "output_type": "stream",
     "text": [
      "loss: 0.5\n"
     ]
    }
   ],
   "source": [
    "y = torch.tensor(4., requires_grad=True)\n",
    "w = torch.tensor(2., requires_grad=True)\n",
    "b = torch.tensor(1., requires_grad=True)\n",
    "y_hat = 2 * w + b\n",
    "L = (1 / 2) * (y - y_hat) ** 2\n",
    "\n",
    "print(\"loss: {0}\".format(L))\n",
    "L.backward(retain_graph=True)\n"
   ]
  },
  {
   "cell_type": "code",
   "execution_count": 11,
   "id": "7e6398ae",
   "metadata": {},
   "outputs": [],
   "source": [
    "g = make_dot(L)\n",
    "print(g)"
   ]
  },
  {
   "cell_type": "code",
   "execution_count": null,
   "id": "8bcb1597",
   "metadata": {},
   "outputs": [],
   "source": []
  }
 ],
 "metadata": {
  "kernelspec": {
   "display_name": "Python 3",
   "language": "python",
   "name": "python3"
  },
  "language_info": {
   "codemirror_mode": {
    "name": "ipython",
    "version": 3
   },
   "file_extension": ".py",
   "mimetype": "text/x-python",
   "name": "python",
   "nbconvert_exporter": "python",
   "pygments_lexer": "ipython3",
   "version": "3.7.10"
  }
 },
 "nbformat": 4,
 "nbformat_minor": 5
}
